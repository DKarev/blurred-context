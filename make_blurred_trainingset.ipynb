{
 "cells": [
  {
   "cell_type": "code",
   "execution_count": 1,
   "metadata": {},
   "outputs": [],
   "source": [
    "#Import required Image library\n",
    "from PIL import Image, ImageFilter, ImageDraw\n",
    "import numpy as np\n",
    "import pandas as pd\n",
    "import os\n",
    "import itertools"
   ]
  },
  {
   "cell_type": "code",
   "execution_count": 2,
   "metadata": {},
   "outputs": [
    {
     "name": "stdout",
     "output_type": "stream",
     "text": [
      "Processing: cate01\n"
     ]
    }
   ],
   "source": [
    "object_data = pd.read_csv('Datalist/trainColor_oriimg.txt', header=None)\n",
    "binary_data = pd.read_csv('Datalist/trainColor_binimg.txt', header=None)\n",
    "oriimage_path = 'Datasets/MSCOCO/trainColor_oriimg'\n",
    "binimage_path = 'Datasets/MSCOCO/trainColor_binimg'\n",
    "results_ori = 'Datasets/MSCOCO/trainColor_blurimg'\n",
    "\n",
    "blur_list = [0, 1, 2, 4, 8, 16, 32, 64]\n",
    "\n",
    "for blur in blur_list:\n",
    "    for i in range(1, 56):\n",
    "        stri = str(i)\n",
    "        if i<=9:\n",
    "            stri = '0' + str(i)\n",
    "            \n",
    "        new_folder = os.path.join(results_ori + '_' + str(blur), 'cate' + stri)\n",
    "        if os.path.exists(new_folder) is False:\n",
    "            os.makedirs(new_folder)\n",
    "            \n",
    "\n",
    "cnt = 1\n",
    "prev_s = ''\n",
    "data = zip(object_data.iterrows(), binary_data.iterrows())\n",
    "\n",
    "for (_, s), (_, s1) in data:\n",
    "    \n",
    "    if cnt > 10:\n",
    "        break\n",
    "    cnt += 1\n",
    "    \n",
    "    if prev_s != s[0].split('/')[0]:\n",
    "        prev_s = s[0].split('/')[0]\n",
    "        print(\"Processing: \" + str(prev_s))\n",
    "\n",
    "    # Read the image and its binary mask\n",
    "    image = Image.open(os.path.join(oriimage_path, s[0]))\n",
    "    bin_mask = np.array(Image.open(os.path.join(binimage_path, s1[0])))\n",
    "\n",
    "    # Find the corners of the bounding box\n",
    "    A = np.argwhere(bin_mask >= 200)\n",
    "    top, left = A[0]\n",
    "    bottom, right = A[-1]\n",
    "    if bottom < A[-2][0] or right < A[-2][0]:\n",
    "        bottom, right = A[-2]\n",
    "\n",
    "    # Create a mask around the target object\n",
    "    mask = Image.new('L', image.size, 0)\n",
    "    draw = ImageDraw.Draw(mask)\n",
    "    draw.rectangle([ (left,bottom), (right,top) ], fill=255)\n",
    "        \n",
    "    for blur in blur_list:\n",
    "        # Blur the image but preserve the target object\n",
    "        blurred = image.filter(ImageFilter.GaussianBlur(blur))\n",
    "        blurred.paste(image, mask=mask)\n",
    "\n",
    "        # Save the image\n",
    "        results = results_ori + ('_' + str(blur))\n",
    "        new_file = os.path.join(results_ori + '_' + str(blur), s[0])\n",
    "        blurred.save(new_file)\n",
    "\n",
    "    \n",
    "    "
   ]
  },
  {
   "cell_type": "code",
   "execution_count": null,
   "metadata": {},
   "outputs": [],
   "source": []
  }
 ],
 "metadata": {
  "kernelspec": {
   "display_name": "Python 3",
   "language": "python",
   "name": "python3"
  },
  "language_info": {
   "codemirror_mode": {
    "name": "ipython",
    "version": 2
   },
   "file_extension": ".py",
   "mimetype": "text/x-python",
   "name": "python",
   "nbconvert_exporter": "python",
   "pygments_lexer": "ipython2",
   "version": "2.7.13"
  }
 },
 "nbformat": 4,
 "nbformat_minor": 2
}
